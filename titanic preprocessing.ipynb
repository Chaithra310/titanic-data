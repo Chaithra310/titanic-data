{
  "nbformat": 4,
  "nbformat_minor": 0,
  "metadata": {
    "colab": {
      "provenance": []
    },
    "kernelspec": {
      "name": "python3",
      "display_name": "Python 3"
    },
    "language_info": {
      "name": "python"
    }
  },
  "cells": [
    {
      "cell_type": "code",
      "execution_count": 1,
      "metadata": {
        "id": "rkEkr25po6Ww"
      },
      "outputs": [],
      "source": [
        "# Importing necessary libraries\n",
        "import pandas as pd\n",
        "import numpy as np\n",
        "import matplotlib.pyplot as plt\n",
        "import seaborn as sns\n",
        "from sklearn.preprocessing import StandardScaler, MinMaxScaler, LabelEncoder, OneHotEncoder\n",
        "from sklearn.impute import SimpleImputer"
      ]
    },
    {
      "cell_type": "code",
      "source": [
        "# Loading the dataset\n",
        "df = pd.read_csv('/content/Titanic-Dataset.csv')"
      ],
      "metadata": {
        "id": "1zN4NXk_o_oe"
      },
      "execution_count": 2,
      "outputs": []
    },
    {
      "cell_type": "code",
      "source": [
        "# 1. Exploring basic info\n",
        "print(\"=== Dataset Info ===\")\n",
        "print(df.info())\n",
        "print(\"\\n=== Null Values ===\")\n",
        "print(df.isnull().sum())\n",
        "print(\"\\n=== Data Types ===\")\n",
        "print(df.dtypes)"
      ],
      "metadata": {
        "colab": {
          "base_uri": "https://localhost:8080/"
        },
        "id": "eZkEUmNRpODP",
        "outputId": "496cc2b9-1103-4356-d803-26b02d43d0c0"
      },
      "execution_count": 3,
      "outputs": [
        {
          "output_type": "stream",
          "name": "stdout",
          "text": [
            "=== Dataset Info ===\n",
            "<class 'pandas.core.frame.DataFrame'>\n",
            "RangeIndex: 891 entries, 0 to 890\n",
            "Data columns (total 12 columns):\n",
            " #   Column       Non-Null Count  Dtype  \n",
            "---  ------       --------------  -----  \n",
            " 0   PassengerId  891 non-null    int64  \n",
            " 1   Survived     891 non-null    int64  \n",
            " 2   Pclass       891 non-null    int64  \n",
            " 3   Name         891 non-null    object \n",
            " 4   Sex          891 non-null    object \n",
            " 5   Age          714 non-null    float64\n",
            " 6   SibSp        891 non-null    int64  \n",
            " 7   Parch        891 non-null    int64  \n",
            " 8   Ticket       891 non-null    object \n",
            " 9   Fare         891 non-null    float64\n",
            " 10  Cabin        204 non-null    object \n",
            " 11  Embarked     889 non-null    object \n",
            "dtypes: float64(2), int64(5), object(5)\n",
            "memory usage: 83.7+ KB\n",
            "None\n",
            "\n",
            "=== Null Values ===\n",
            "PassengerId      0\n",
            "Survived         0\n",
            "Pclass           0\n",
            "Name             0\n",
            "Sex              0\n",
            "Age            177\n",
            "SibSp            0\n",
            "Parch            0\n",
            "Ticket           0\n",
            "Fare             0\n",
            "Cabin          687\n",
            "Embarked         2\n",
            "dtype: int64\n",
            "\n",
            "=== Data Types ===\n",
            "PassengerId      int64\n",
            "Survived         int64\n",
            "Pclass           int64\n",
            "Name            object\n",
            "Sex             object\n",
            "Age            float64\n",
            "SibSp            int64\n",
            "Parch            int64\n",
            "Ticket          object\n",
            "Fare           float64\n",
            "Cabin           object\n",
            "Embarked        object\n",
            "dtype: object\n"
          ]
        }
      ]
    },
    {
      "cell_type": "code",
      "source": [
        "# 2. Handling missing values\n",
        "# For numerical columns - fill with median\n",
        "num_cols = ['Age', 'Fare']\n",
        "for col in num_cols:\n",
        "    df[col].fillna(df[col].median(), inplace=True)\n",
        "\n",
        "# For categorical columns - fill with mode\n",
        "cat_cols = ['Embarked', 'Cabin']\n",
        "for col in cat_cols:\n",
        "    df[col].fillna(df[col].mode()[0], inplace=True)\n",
        "\n",
        "# Drop columns with too many missing values or not useful\n",
        "df.drop(['PassengerId', 'Name', 'Ticket', 'Cabin'], axis=1, inplace=True)\n"
      ],
      "metadata": {
        "colab": {
          "base_uri": "https://localhost:8080/"
        },
        "id": "ZGU0xEompagi",
        "outputId": "9c7d20be-f612-4f92-dd10-33d5296e72ce"
      },
      "execution_count": 4,
      "outputs": [
        {
          "output_type": "stream",
          "name": "stderr",
          "text": [
            "/tmp/ipython-input-2096687591.py:5: FutureWarning: A value is trying to be set on a copy of a DataFrame or Series through chained assignment using an inplace method.\n",
            "The behavior will change in pandas 3.0. This inplace method will never work because the intermediate object on which we are setting values always behaves as a copy.\n",
            "\n",
            "For example, when doing 'df[col].method(value, inplace=True)', try using 'df.method({col: value}, inplace=True)' or df[col] = df[col].method(value) instead, to perform the operation inplace on the original object.\n",
            "\n",
            "\n",
            "  df[col].fillna(df[col].median(), inplace=True)\n",
            "/tmp/ipython-input-2096687591.py:10: FutureWarning: A value is trying to be set on a copy of a DataFrame or Series through chained assignment using an inplace method.\n",
            "The behavior will change in pandas 3.0. This inplace method will never work because the intermediate object on which we are setting values always behaves as a copy.\n",
            "\n",
            "For example, when doing 'df[col].method(value, inplace=True)', try using 'df.method({col: value}, inplace=True)' or df[col] = df[col].method(value) instead, to perform the operation inplace on the original object.\n",
            "\n",
            "\n",
            "  df[col].fillna(df[col].mode()[0], inplace=True)\n"
          ]
        }
      ]
    },
    {
      "cell_type": "code",
      "source": [
        "# 3. Converting categorical features to numerical\n",
        "# Label encoding for ordinal categories\n",
        "label_encoder = LabelEncoder()\n",
        "df['Sex'] = label_encoder.fit_transform(df['Sex'])"
      ],
      "metadata": {
        "id": "ORH1rB5apfN-"
      },
      "execution_count": 5,
      "outputs": []
    },
    {
      "cell_type": "code",
      "source": [
        "# One-hot encoding for nominal categories\n",
        "df = pd.get_dummies(df, columns=['Embarked'], prefix=['Embarked'])"
      ],
      "metadata": {
        "id": "hpE7qj7ipjyi"
      },
      "execution_count": 6,
      "outputs": []
    },
    {
      "cell_type": "code",
      "source": [
        "# 4. Normalize/standardize numerical features\n",
        "# Standardization (mean=0, std=1)\n",
        "scaler = StandardScaler()\n",
        "df[['Age', 'Fare']] = scaler.fit_transform(df[['Age', 'Fare']])"
      ],
      "metadata": {
        "id": "p4RVTZGwpmZc"
      },
      "execution_count": 7,
      "outputs": []
    },
    {
      "cell_type": "code",
      "source": [
        "# 5. Visualize and handle outliers\n",
        "plt.figure(figsize=(12, 6))\n",
        "sns.boxplot(data=df[['Age', 'Fare']])\n",
        "plt.title('Boxplot of Numerical Features')\n",
        "plt.show()"
      ],
      "metadata": {
        "colab": {
          "base_uri": "https://localhost:8080/",
          "height": 545
        },
        "id": "RzUVqWZ0po4L",
        "outputId": "ae0a962b-ffdf-490c-a422-3bb243a041e6"
      },
      "execution_count": 8,
      "outputs": [
        {
          "output_type": "display_data",
          "data": {
            "text/plain": [
              "<Figure size 1200x600 with 1 Axes>"
            ],
            "image/png": "[encoded data removed]"
          },
          "metadata": {}
        }
      ]
    },
    {
      "cell_type": "code",
      "source": [
        "# Handling outliers using IQR method\n",
        "def remove_outliers(df, col):\n",
        "    Q1 = df[col].quantile(0.25)\n",
        "    Q3 = df[col].quantile(0.75)\n",
        "    IQR = Q3 - Q1\n",
        "    lower_bound = Q1 - 1.5 * IQR\n",
        "    upper_bound = Q3 + 1.5 * IQR\n",
        "    return df[(df[col] >= lower_bound) & (df[col] <= upper_bound)]\n",
        "\n",
        "df = remove_outliers(df, 'Age')\n",
        "df = remove_outliers(df, 'Fare')\n"
      ],
      "metadata": {
        "id": "NYNG0n3Lpu-Z"
      },
      "execution_count": 9,
      "outputs": []
    },
    {
      "cell_type": "code",
      "source": [
        "# Final cleaned dataset\n",
        "print(\"\\n=== Cleaned Dataset Info ===\")\n",
        "print(df.info())\n",
        "print(\"\\n=== First 5 Rows ===\")\n",
        "print(df.head())"
      ],
      "metadata": {
        "colab": {
          "base_uri": "https://localhost:8080/"
        },
        "id": "1tBq1yoHpzxl",
        "outputId": "2baa226b-3895-4224-bf6e-27e376560543"
      },
      "execution_count": 10,
      "outputs": [
        {
          "output_type": "stream",
          "name": "stdout",
          "text": [
            "\n",
            "=== Cleaned Dataset Info ===\n",
            "<class 'pandas.core.frame.DataFrame'>\n",
            "Index: 718 entries, 0 to 890\n",
            "Data columns (total 10 columns):\n",
            " #   Column      Non-Null Count  Dtype  \n",
            "---  ------      --------------  -----  \n",
            " 0   Survived    718 non-null    int64  \n",
            " 1   Pclass      718 non-null    int64  \n",
            " 2   Sex         718 non-null    int64  \n",
            " 3   Age         718 non-null    float64\n",
            " 4   SibSp       718 non-null    int64  \n",
            " 5   Parch       718 non-null    int64  \n",
            " 6   Fare        718 non-null    float64\n",
            " 7   Embarked_C  718 non-null    bool   \n",
            " 8   Embarked_Q  718 non-null    bool   \n",
            " 9   Embarked_S  718 non-null    bool   \n",
            "dtypes: bool(3), float64(2), int64(5)\n",
            "memory usage: 47.0 KB\n",
            "None\n",
            "\n",
            "=== First 5 Rows ===\n",
            "   Survived  Pclass  Sex       Age  SibSp  Parch      Fare  Embarked_C  \\\n",
            "0         0       3    1 -0.565736      1      0 -0.502445       False   \n",
            "2         1       3    0 -0.258337      0      0 -0.488854       False   \n",
            "3         1       1    0  0.433312      1      0  0.420730       False   \n",
            "4         0       3    1  0.433312      0      0 -0.486337       False   \n",
            "5         0       3    1 -0.104637      0      0 -0.478116       False   \n",
            "\n",
            "   Embarked_Q  Embarked_S  \n",
            "0       False        True  \n",
            "2       False        True  \n",
            "3       False        True  \n",
            "4       False        True  \n",
            "5        True       False  \n"
          ]
        }
      ]
    },
    {
      "cell_type": "code",
      "source": [
        "# Save cleaned dataset\n",
        "df.to_csv('cleaned_titanic.csv', index=False)"
      ],
      "metadata": {
        "id": "Zghy7aMbp3IB"
      },
      "execution_count": 11,
      "outputs": []
    }
  ]
}